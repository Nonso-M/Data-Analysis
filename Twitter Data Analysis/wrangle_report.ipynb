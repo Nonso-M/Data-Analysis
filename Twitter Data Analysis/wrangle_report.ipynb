{
 "cells": [
  {
   "cell_type": "markdown",
   "metadata": {},
   "source": [
    "## Reporting: wragle_report\n",
    "* Create a **300-600 word written report** called \"wrangle_report.pdf\" or \"wrangle_report.html\" that briefly describes your wrangling efforts. This is to be framed as an internal document."
   ]
  },
  {
   "cell_type": "markdown",
   "metadata": {},
   "source": [
    "## Introduction: \n",
    "WeRateDogs is a Twitter account that gives ratings to users' dogs along with a \n",
    "humorous anecdote about the pet. \n",
    "These are only a few of the steps taken during the project's data cleansing and \n",
    "wrangling to enable us produce significant analysis and visualization."
   ]
  },
  {
   "cell_type": "markdown",
   "metadata": {},
   "source": [
    "## Gathering Data: \n",
    "I used the url to download the \"twitter-archive-enhanced.csv\" data from the Udacity in the jupyter notebook using the `pd.read_csv` function\n",
    "platform  and  then  I  extracted  the  \"image  predictions.tsv\"  data  from  the  URL \n",
    "Udacity provided. For the twee_json.txt file, a Twitter developer account must be made for the  task in order to connect to the Twitter API, however until I get a \n",
    "mail from the dev team, I used the data from Udacity that is already available."
   ]
  },
  {
   "cell_type": "markdown",
   "metadata": {},
   "source": [
    "## Assessing Data: \n",
    "### Twitter-archive-enhanced data \n",
    "- I used data.sample in each dataframe to visually access the data frame and spot issues which I documented\n",
    "- Data  information was analyzed in the first stage, and a list of data types and non-null values is displayed. This makes it possible to spot columns that have null values or the wrong data type. Then duplicate IDs are looked for.  The  number  of  tweets  that  receive  responses  and  retweets  is  then determined. \n",
    "\n",
    "- The  name  of  the  dog  column  is  evaluated  programmatically  and  the quantity  of  values  is  checked.  Additionally,  we  looked  for  any  tweets mentioning dogs in more than one canine category (stage). \n",
    "\n",
    "- Columns with prefix “retweeted_status and in_reply” were found to have a high percentage of missing value \n",
    "- Errorneous datatype for tweet_id and timestamp \n",
    "- structure of the dog type was untidy \n",
    "- Errors was found in dog names \n",
    "- Some text column contains string "
   ]
  },
  {
   "cell_type": "markdown",
   "metadata": {},
   "source": [
    "### Image Predictions Table \n",
    "- Errorneous datatype for tweet_id  \n",
    "- Missing images (only 2075 counts out of possible 2356) "
   ]
  },
  {
   "cell_type": "markdown",
   "metadata": {},
   "source": [
    "### Twitter API Table \n",
    "- Errorneous datatype for tweet_id  \n",
    "- Nested dictionaries\n",
    "- Have tweets that were just retweets\n",
    " \n"
   ]
  },
  {
   "cell_type": "markdown",
   "metadata": {},
   "source": [
    "### Cleaning Stage \n",
    "- Erroneous data type where cast into its right data type \n",
    "- Dropped the unnecessary columns e.g columns with prefix of \n",
    "- Using regex Source column was able to generate important information from the source column in the tweet-json df\n",
    "- Errorneous datatype for tweet_id  \n",
    "- twitter api table columns(retweet_count, favorite_count, followers_count) was added to twitter archive table. \n",
    "- drop columns with huge missing data percentage\n",
    "\n"
   ]
  },
  {
   "cell_type": "code",
   "execution_count": 4,
   "metadata": {},
   "outputs": [
    {
     "name": "stdout",
     "output_type": "stream",
     "text": [
      "[NbConvertApp] Converting notebook wrangle_report.ipynb to html\n",
      "[NbConvertApp] Writing 284853 bytes to wrangle_report.html\n"
     ]
    }
   ],
   "source": [
    "!jupyter nbconvert --to html wrangle_report.ipynb"
   ]
  }
 ],
 "metadata": {
  "kernelspec": {
   "display_name": "Python 3",
   "language": "python",
   "name": "python3"
  },
  "language_info": {
   "codemirror_mode": {
    "name": "ipython",
    "version": 3
   },
   "file_extension": ".py",
   "mimetype": "text/x-python",
   "name": "python",
   "nbconvert_exporter": "python",
   "pygments_lexer": "ipython3",
   "version": "3.6.3"
  }
 },
 "nbformat": 4,
 "nbformat_minor": 2
}
